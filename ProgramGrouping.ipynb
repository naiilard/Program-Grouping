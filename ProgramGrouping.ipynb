{
  "nbformat": 4,
  "nbformat_minor": 0,
  "metadata": {
    "colab": {
      "provenance": [],
      "authorship_tag": "ABX9TyPMFM3X8HhgANklxTz7T+j9",
      "include_colab_link": true
    },
    "kernelspec": {
      "name": "python3",
      "display_name": "Python 3"
    },
    "language_info": {
      "name": "python"
    }
  },
  "cells": [
    {
      "cell_type": "markdown",
      "metadata": {
        "id": "view-in-github",
        "colab_type": "text"
      },
      "source": [
        "<a href=\"https://colab.research.google.com/github/naiilard/Program-Grouping/blob/main/ProgramGrouping.ipynb\" target=\"_parent\"><img src=\"https://colab.research.google.com/assets/colab-badge.svg\" alt=\"Open In Colab\"/></a>"
      ]
    },
    {
      "cell_type": "code",
      "execution_count": 1,
      "metadata": {
        "id": "LOnDNYSnJXR7",
        "colab": {
          "base_uri": "https://localhost:8080/"
        },
        "outputId": "917f3109-d8ba-4081-ad8e-c5a8c3fe059e"
      },
      "outputs": [
        {
          "output_type": "stream",
          "name": "stdout",
          "text": [
            "Masukkan banyak data: 8\n",
            "Masukkan data ke-1: 3\n",
            "Masukkan data ke-2: 6\n",
            "Masukkan data ke-3: 1\n",
            "Masukkan data ke-4: 8\n",
            "Masukkan data ke-5: 2\n",
            "Masukkan data ke-6: 4\n",
            "Masukkan data ke-7: 9\n",
            "Masukkan data ke-8: 5\n",
            "Nilai T adalah [3, 6, 1, 8, 2, 4, 9, 5]\n",
            "Bilangan genap adalah [6, 8, 2, 4]\n",
            "Bilagan ganjil adalah [3, 1, 9, 5]\n",
            "Bilangan prima adalah [3, 2, 5]\n"
          ]
        }
      ],
      "source": [
        "# 2. Program memisahkan elemen GENAP, GANJIL, dan PRIMA\n",
        "\n",
        "N = int(input('Masukkan banyak data: '))\n",
        "T = []\n",
        "\n",
        "for i in range(N):\n",
        "  print(f\"Masukkan data ke-{i+1}: \", end=\"\")\n",
        "  data = int(input())\n",
        "  T.append(data)\n",
        "print('Nilai T adalah', T)\n",
        "\n",
        "genap = []\n",
        "ganjil = []\n",
        "prima = []\n",
        "\n",
        "for i in range(N):\n",
        "  if T[i] % 2 == 0:\n",
        "    genap.append(T[i])\n",
        "  if T[i] % 2 == 1:\n",
        "    ganjil.append(T[i])\n",
        "  if T[i] > 1:\n",
        "    for j in range(2, T[i]):\n",
        "      if T[i] % j == 0:\n",
        "        break\n",
        "    else:\n",
        "        prima.append(T[i])\n",
        "\n",
        "print('Bilangan genap adalah', genap)\n",
        "print('Bilagan ganjil adalah', ganjil)\n",
        "print('Bilangan prima adalah', prima)"
      ]
    }
  ]
}